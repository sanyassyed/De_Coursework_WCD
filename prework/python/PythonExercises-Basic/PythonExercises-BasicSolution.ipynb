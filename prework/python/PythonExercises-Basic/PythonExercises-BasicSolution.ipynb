{
 "cells": [
  {
   "cell_type": "markdown",
   "metadata": {},
   "source": [
    "<center>\n",
    "    <img src=\"https://weclouddata.s3.amazonaws.com/images/logos/wcd_logo_new_2.png\" width='30%'> \n",
    "</center>\n",
    "\n",
    "----------\n",
    "\n",
    "<h1 align=\"center\"> Python - Exercises </h1>\n",
    "<br>\n",
    "<center align=\"left\"> <font size='4'>  Developed by: </font><font size='4' color='#33AAFBD'>WeCloudData Academy </font></center>\n",
    "<br>\n",
    "\n",
    "----------"
   ]
  },
  {
   "cell_type": "markdown",
   "metadata": {},
   "source": [
    "## Exercise 1\n",
    "Using Python, calculate the following:\n",
    "\n",
    "There were 20 people on a bus. 10 got off. 3 came on. 15\n",
    "came on. 5 came off. If there were 3 more buses, and each had 15 people\n",
    "throughout the bus ride, how many people were on all the buses at the last\n",
    "stop?\n",
    "\n",
    "(Should be done via one equation)"
   ]
  },
  {
   "cell_type": "code",
   "execution_count": 1,
   "metadata": {
    "scrolled": true
   },
   "outputs": [],
   "source": [
    "20 - 10 + 3 + 15 - 5 + (3 * 15)"
   ]
  },
  {
   "cell_type": "markdown",
   "metadata": {},
   "source": [
    "## Exercise 2\n",
    "Given a list of unique integers extract the following:\n",
    "- The second highest number\n",
    "- Get the **three** lowest numbers"
   ]
  },
  {
   "cell_type": "code",
   "execution_count": 2,
   "metadata": {},
   "outputs": [],
   "source": [
    "lst = [9, 4, 7, 5, 1, 13, 3, 8]\n",
    "\n",
    "# Your code below\n",
    "\n",
    "sorted_lst = sorted(lst)\n",
    "\n",
    "sorted_lst[-2]\n",
    "\n",
    "sorted_lst[:3]"
   ]
  },
  {
   "cell_type": "markdown",
   "metadata": {},
   "source": [
    "## Exercise 3\n",
    "Given a paragraph as a string, calculate the number of characters in the second sentence. (Whitespace counts as a character)"
   ]
  },
  {
   "cell_type": "code",
   "execution_count": 3,
   "metadata": {},
   "outputs": [],
   "source": [
    "sentence = 'This is a paragraph. It contains multiple sentences. It has three sentences to be exact.'\n",
    "\n",
    "# Your code below\n",
    "\n",
    "len(sentence.split('. ')[1])"
   ]
  },
  {
   "cell_type": "markdown",
   "metadata": {},
   "source": [
    "## Exercise 4\n",
    "Given an email address as a string, extract only the domain name. For example:\n",
    "- `'johnsmith@gmail.com'` => `'gmail'`\n",
    "- `'smithjohn@hotmail.com'` => `'hotmail'`\n",
    "\n",
    "Hint: You can use multiple splits"
   ]
  },
  {
   "cell_type": "code",
   "execution_count": 4,
   "metadata": {},
   "outputs": [],
   "source": [
    "email1 = 'johnsmith@gmail.com'\n",
    "email2 = 'smithjohn@hotmail.com'\n",
    "\n",
    "# Your code below\n",
    "\n",
    "email1.split('@')[1].split('.')[0]"
   ]
  },
  {
   "cell_type": "markdown",
   "metadata": {},
   "source": [
    "## Exercise 5\n",
    "- Given a string of songs `'LA Story, Lost Stars, Grenade'`\n",
    "- And a list of movies `[Avengers, Iron Man, Hulk]`\n",
    "- Join the songs and the movies together as a variable called `favourites` (Hint: List1 + List2)\n",
    "- Finally, add a book named `'NYPD Red'` to the end of the list"
   ]
  },
  {
   "cell_type": "code",
   "execution_count": 5,
   "metadata": {},
   "outputs": [],
   "source": [
    "songs = 'LA Story, Lost Stars, Grenade'\n",
    "movies = ['Avengers', 'Iron Man', 'Hulk']\n",
    "\n",
    "# Your code below\n",
    "\n",
    "favourites = songs.split(', ') + movies\n",
    "\n",
    "favourites.append('NYPD Red')\n",
    "\n",
    "favourites"
   ]
  },
  {
   "cell_type": "markdown",
   "metadata": {},
   "source": [
    "## Exercise 6\n",
    "\n",
    "- Create a program to check if there will be rain\n",
    "- The program should ask the user 'What day of the week is it?' using the `input` function\n",
    "- Using an if statement, if the day is equal to 'Monday' or 'Tuesday', print 'Today is sunny'\n",
    "- If it is not, print 'Today it will rain'"
   ]
  },
  {
   "cell_type": "code",
   "execution_count": 6,
   "metadata": {},
   "outputs": [
    {
     "name": "stdout",
     "output_type": "stream",
     "text": [
      "What day of the week is it? monday\n",
      "Today is sunny\n"
     ]
    }
   ],
   "source": [
    "# Your code below\n",
    "\n",
    "day_week = input('What day of the week is it? ').lower()\n",
    "\n",
    "# if day_week == 'monday' or day_week == 'tuesday':\n",
    "if day_week in ['monday', 'tuesday']:\n",
    "    print('Today is sunny')\n",
    "else:\n",
    "    print('Today it will rain')"
   ]
  },
  {
   "cell_type": "code",
   "execution_count": 7,
   "metadata": {},
   "outputs": [
    {
     "name": "stdout",
     "output_type": "stream",
     "text": [
      "What day of the week is it? friday\n",
      "Try again\n"
     ]
    }
   ],
   "source": [
    "# Handle error\n",
    "day_week = input('What day of the week is it? ').lower()\n",
    "\n",
    "if day_week in ['monday', 'tuesday']:\n",
    "    print('Today is sunny')\n",
    "elif day_week in ['wednesday', 'thursday']:\n",
    "    print('Today it will rain')\n",
    "else:\n",
    "    print('Try again')"
   ]
  },
  {
   "cell_type": "markdown",
   "metadata": {},
   "source": [
    "## Exercise 7\n",
    "Given a dictionary that represents a user of an online grocery store, use Python to answer the following:\n",
    "- Is their password the same as their username?\n",
    "- How many characters in their email **before** the `@` symbol\n",
    "- How old are they as of this year?\n",
    "- How many items in their shopping cart?\n",
    "\n",
    "Change the dictionary to do the following:\n",
    "- Add a new item to the dictionary called `online`, set the value to be `False`\n",
    "- Remove `'milk'` from their shopping cart\n",
    "- Add `'super milk'` to their shopping cart"
   ]
  },
  {
   "cell_type": "code",
   "execution_count": 8,
   "metadata": {},
   "outputs": [
    {
     "data": {
      "text/plain": [
       "{'username': 'coolguy123',\n",
       " 'password': 'coolguy123',\n",
       " 'email': 'coolguy@email.com',\n",
       " 'year_of_birth': 1900,\n",
       " 'shopping_cart': ['bread', 'eggs', 'butter', 'super milk'],\n",
       " 'online': False}"
      ]
     },
     "execution_count": 8,
     "metadata": {},
     "output_type": "execute_result"
    }
   ],
   "source": [
    "user = {\n",
    "    'username': 'coolguy123',\n",
    "    'password': 'coolguy123',\n",
    "    'email': 'coolguy@email.com',\n",
    "    'year_of_birth': 1900,\n",
    "    'shopping_cart': ['milk', 'bread', 'eggs', 'butter']\n",
    "}\n",
    "\n",
    "# Your code below\n",
    "\n",
    "user['username'] == user['password']\n",
    "\n",
    "len(user['email'].split('@')[0])\n",
    "# user['email'].find('@')\n",
    "\n",
    "2020 - user['year_of_birth']\n",
    "\n",
    "len(user['shopping_cart'])\n",
    "\n",
    "\n",
    "#######################\n",
    "\n",
    "user['online'] = False\n",
    "\n",
    "user['shopping_cart'].remove('milk')\n",
    "\n",
    "user['shopping_cart'].append('super milk')\n",
    "\n",
    "user"
   ]
  },
  {
   "cell_type": "markdown",
   "metadata": {},
   "source": [
    "## Exercise 8 \n",
    "\n",
    "- Create a list with the following numbers: `[42, 2, 9, 7, 3, 53, 18]`\n",
    "- Create a new list with only the even numbers from the first list"
   ]
  },
  {
   "cell_type": "code",
   "execution_count": 9,
   "metadata": {},
   "outputs": [],
   "source": [
    "# Your code below\n",
    "\n",
    "lst = [42, 2, 9, 7, 3, 53, 18]\n",
    "\n",
    "# First solution\n",
    "new_lst = []\n",
    "for x in lst:\n",
    "    if x % 2 == 0:\n",
    "        new_lst.append(x)"
   ]
  },
  {
   "cell_type": "code",
   "execution_count": 10,
   "metadata": {},
   "outputs": [],
   "source": [
    "# Solution with remove\n",
    "new_lst = lst.copy()\n",
    "for x in lst:\n",
    "    if x % 2 != 0:\n",
    "        new_lst.remove(x)"
   ]
  },
  {
   "cell_type": "code",
   "execution_count": 11,
   "metadata": {},
   "outputs": [
    {
     "data": {
      "text/plain": [
       "[42, 2, 18]"
      ]
     },
     "execution_count": 11,
     "metadata": {},
     "output_type": "execute_result"
    }
   ],
   "source": [
    "# Solution with list comprehension\n",
    "\n",
    "[x for x in lst if x % 2 == 0]"
   ]
  },
  {
   "cell_type": "markdown",
   "metadata": {},
   "source": [
    "## Exercise 9\n",
    "- The weight of a person on the moon is 1/6th the weight of a person standing on earth.\n",
    "- Let's say that your weight on earth increases by 1 kg every year\n",
    "- Write a program that will print your weight on the moon every year for the next 10 years\n",
    "- Your initial weight is 70kg\n"
   ]
  },
  {
   "cell_type": "code",
   "execution_count": 12,
   "metadata": {},
   "outputs": [
    {
     "name": "stdout",
     "output_type": "stream",
     "text": [
      "11.833333333333334\n",
      "12.0\n",
      "12.166666666666666\n",
      "12.333333333333334\n",
      "12.5\n",
      "12.666666666666666\n",
      "12.833333333333334\n",
      "13.0\n",
      "13.166666666666666\n",
      "13.333333333333334\n"
     ]
    }
   ],
   "source": [
    "# Your code below\n",
    "\n",
    "current_weight = 70\n",
    "\n",
    "for _ in range(10):\n",
    "    current_weight += 1\n",
    "    print(current_weight/6)"
   ]
  },
  {
   "cell_type": "code",
   "execution_count": 13,
   "metadata": {},
   "outputs": [
    {
     "data": {
      "text/plain": [
       "[11.833333333333334,\n",
       " 12.0,\n",
       " 12.166666666666666,\n",
       " 12.333333333333334,\n",
       " 12.5,\n",
       " 12.666666666666666,\n",
       " 12.833333333333334,\n",
       " 13.0,\n",
       " 13.166666666666666,\n",
       " 13.333333333333334]"
      ]
     },
     "execution_count": 13,
     "metadata": {},
     "output_type": "execute_result"
    }
   ],
   "source": [
    "# List comprehension\n",
    "\n",
    "current_weight = 70\n",
    "\n",
    "# [(current_weight + x) / 6 for x in range(1, 11)]\n",
    "\n",
    "[x / 6 for x in range(current_weight + 1, current_weight + 11)]"
   ]
  },
  {
   "cell_type": "markdown",
   "metadata": {},
   "source": [
    "## Exercise 10\n",
    "Imagine a store has sold 5 orders of its product. Given a list of the prices of each order and a list of quantities for each order, calculate the total sales revenue.\n",
    "\n",
    "If you'd like a challenge, try solving it in one line. (Hint: list comprehension)"
   ]
  },
  {
   "cell_type": "code",
   "execution_count": 14,
   "metadata": {},
   "outputs": [
    {
     "data": {
      "text/plain": [
       "202"
      ]
     },
     "execution_count": 14,
     "metadata": {},
     "output_type": "execute_result"
    }
   ],
   "source": [
    "prices = ['$5', '$10', '$1', '$20', '$7']\n",
    "quantities = [5, 2, 50, 5, 1]\n",
    "\n",
    "# Your code below\n",
    "\n",
    "total = 0\n",
    "for i in range(len(prices)):\n",
    "    price = int(prices[i].replace('$', ''))\n",
    "    quantity = quantities[i]\n",
    "    total += price * quantity\n",
    "\n",
    "total"
   ]
  },
  {
   "cell_type": "code",
   "execution_count": 15,
   "metadata": {},
   "outputs": [
    {
     "data": {
      "text/plain": [
       "202"
      ]
     },
     "execution_count": 15,
     "metadata": {},
     "output_type": "execute_result"
    }
   ],
   "source": [
    "# List comprehension\n",
    "\n",
    "sum([int(prices[i].replace('$', '')) * quantities[i] for i in range(len(prices))])"
   ]
  },
  {
   "cell_type": "code",
   "execution_count": 16,
   "metadata": {},
   "outputs": [
    {
     "data": {
      "text/plain": [
       "[('$5', 5), ('$10', 2), ('$1', 50), ('$20', 5), ('$7', 1)]"
      ]
     },
     "execution_count": 16,
     "metadata": {},
     "output_type": "execute_result"
    }
   ],
   "source": [
    "list(zip(prices, quantities))"
   ]
  },
  {
   "cell_type": "code",
   "execution_count": 17,
   "metadata": {},
   "outputs": [
    {
     "data": {
      "text/plain": [
       "202"
      ]
     },
     "execution_count": 17,
     "metadata": {},
     "output_type": "execute_result"
    }
   ],
   "source": [
    "# List comprehension with zip\n",
    "sum([int(price.replace('$', '')) * quantity for price, quantity in zip(prices, quantities)])"
   ]
  },
  {
   "cell_type": "markdown",
   "metadata": {},
   "source": [
    "## Hangman\n",
    "\n",
    "Create a Hangman game. The rules of Hangman can be found at:  https://en.wikipedia.org/wiki/Hangman_(game). For our version of the game we'll do the following:\n",
    "- The answer will be set to `'kangaroo'`\n",
    "- Use the `input` function to get the user's guess\n",
    "- Display the current board (ka_a_oo) and current guessed letters every turn\n",
    "- The player has 5 incorrect guess until they lose\n",
    "- If the user guesses all letters end the program and print 'You win'\n",
    "- If the user makes 5 incorrect guesses print 'You lose'\n",
    "\n",
    "### Bonus\n",
    "Try improving your game. You can make it as complex as you'd like. Some ideas to try:\n",
    "- Give the user the option to guess the whole word instead of one letter at a time\n",
    "- Randomly generate the answer\n",
    "- Reformat your code using functions\n",
    "- Handle error cases\n",
    "    - ex. If the user inputs an uppercase letter or a number\n",
    "- Make the game two players\n",
    "    - One player creates the answer and the other guesses\n",
    "    - When they're done switch roles\n",
    "    - Play multiple rounds and keep score to declare the winner"
   ]
  },
  {
   "cell_type": "code",
   "execution_count": 18,
   "metadata": {},
   "outputs": [
    {
     "name": "stdout",
     "output_type": "stream",
     "text": [
      "Guess a letter: b\n",
      "['_', '_', '_', '_', '_', '_', '_', '_']\n",
      "['b']\n",
      "Guess a letter: k\n",
      "['k', '_', '_', '_', '_', '_', '_', '_']\n",
      "['b']\n",
      "Guess a letter: a\n",
      "['k', 'a', '_', '_', 'a', '_', '_', '_']\n",
      "['b']\n",
      "Guess a letter: n\n",
      "['k', 'a', 'n', '_', 'a', '_', '_', '_']\n",
      "['b']\n",
      "Guess a letter: h\n",
      "['k', 'a', 'n', '_', 'a', '_', '_', '_']\n",
      "['b', 'h']\n",
      "Guess a letter: k\n",
      "['k', 'a', 'n', '_', 'a', '_', '_', '_']\n",
      "['b', 'h']\n",
      "Guess a letter: o\n",
      "['k', 'a', 'n', '_', 'a', '_', 'o', 'o']\n",
      "['b', 'h']\n",
      "Guess a letter: g\n",
      "['k', 'a', 'n', 'g', 'a', '_', 'o', 'o']\n",
      "['b', 'h']\n",
      "Guess a letter: r\n",
      "['k', 'a', 'n', 'g', 'a', 'r', 'o', 'o']\n",
      "['b', 'h']\n",
      "You win!\n"
     ]
    }
   ],
   "source": [
    "answer = 'kangaroo'\n",
    "max_guesses = 5\n",
    "incorrect_guesses = []\n",
    "board = ['_'] * len(answer)\n",
    "\n",
    "while (max_guesses > 0) and (''.join(board) != answer):\n",
    "    guess = input('Guess a letter: ')\n",
    "    \n",
    "    if guess in answer:\n",
    "        for i in range(len(answer)):\n",
    "            if guess == answer[i]:\n",
    "                board[i] = guess\n",
    "    else:\n",
    "        incorrect_guesses.append(guess)\n",
    "        max_guesses -= 1\n",
    "    \n",
    "    print(board)\n",
    "    print(incorrect_guesses)\n",
    "\n",
    "if ''.join(board) == answer:\n",
    "    print('You win!')\n",
    "else:\n",
    "    print('You lose')"
   ]
  },
  {
   "cell_type": "code",
   "execution_count": null,
   "metadata": {},
   "outputs": [],
   "source": []
  }
 ],
 "metadata": {
  "kernelspec": {
   "display_name": "Python 3",
   "language": "python",
   "name": "python3"
  },
  "language_info": {
   "codemirror_mode": {
    "name": "ipython",
    "version": 3
   },
   "file_extension": ".py",
   "mimetype": "text/x-python",
   "name": "python",
   "nbconvert_exporter": "python",
   "pygments_lexer": "ipython3",
   "version": "3.7.9"
  },
  "toc": {
   "base_numbering": 1,
   "nav_menu": {},
   "number_sections": false,
   "sideBar": true,
   "skip_h1_title": false,
   "title_cell": "Table of Contents",
   "title_sidebar": "Contents",
   "toc_cell": false,
   "toc_position": {},
   "toc_section_display": true,
   "toc_window_display": false
  }
 },
 "nbformat": 4,
 "nbformat_minor": 2
}
