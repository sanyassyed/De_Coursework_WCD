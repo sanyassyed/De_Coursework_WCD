{
 "cells": [
  {
   "cell_type": "markdown",
   "metadata": {},
   "source": [
    "<center>\n",
    "    <img src=\"https://weclouddata.s3.amazonaws.com/images/logos/wcd_logo_new_2.png\" width='30%'> \n",
    "</center>\n",
    "\n",
    "----------\n",
    "\n",
    "<h1 align=\"center\"> Python - Exercises </h1>\n",
    "<br>\n",
    "<center align=\"left\"> <font size='4'>  Developed by: </font><font size='4' color='#33AAFBD'>WeCloudData</font></center>\n",
    "<br>\n",
    "\n",
    "----------"
   ]
  },
  {
   "cell_type": "markdown",
   "metadata": {},
   "source": [
    "## Exercise 1\n",
    "Using Python, calculate the following:\n",
    "\n",
    "There were 20 people on a bus. 10 got off. 3 came on. 15\n",
    "came on. 5 came off. If there were 3 more buses, and each had 15 people\n",
    "throughout the bus ride, how many people were on all the buses at the last\n",
    "stop?\n",
    "\n",
    "(Should be done via one equation)"
   ]
  },
  {
   "cell_type": "code",
   "execution_count": 1,
   "metadata": {
    "scrolled": true
   },
   "outputs": [
    {
     "name": "stdout",
     "output_type": "stream",
     "text": [
      "68\n"
     ]
    }
   ],
   "source": [
    "# Your code below\n",
    "people = (20-10+3+15-5)+(15*3)\n",
    "print(people)"
   ]
  },
  {
   "cell_type": "markdown",
   "metadata": {},
   "source": [
    "## Exercise 2\n",
    "Given a list of unique integers extract the following:\n",
    "- The second highest number\n",
    "- Get the **three** lowest numbers"
   ]
  },
  {
   "cell_type": "code",
   "execution_count": 6,
   "metadata": {},
   "outputs": [
    {
     "name": "stdout",
     "output_type": "stream",
     "text": [
      "9\n",
      "9\n"
     ]
    }
   ],
   "source": [
    "lst = [9, 4, 7, 5, 1, 13, 3, 8]\n",
    "\n",
    "# Your code below\n",
    "# Method 1\n",
    "lst_sorted = sorted(lst)\n",
    "print(lst_sorted[-2])\n",
    "# Method2\n",
    "lst.sort(reverse=True)\n",
    "print(lst[1])"
   ]
  },
  {
   "cell_type": "code",
   "execution_count": 3,
   "metadata": {},
   "outputs": [
    {
     "name": "stdout",
     "output_type": "stream",
     "text": [
      "Help on method_descriptor:\n",
      "\n",
      "sort(self, /, *, key=None, reverse=False)\n",
      "    Sort the list in ascending order and return None.\n",
      "    \n",
      "    The sort is in-place (i.e. the list itself is modified) and stable (i.e. the\n",
      "    order of two equal elements is maintained).\n",
      "    \n",
      "    If a key function is given, apply it once to each list item and sort them,\n",
      "    ascending or descending, according to their function values.\n",
      "    \n",
      "    The reverse flag can be set to sort in descending order.\n",
      "\n"
     ]
    }
   ],
   "source": [
    "# Looking at the descriptoion for the method sort\n",
    "help(list.sort)"
   ]
  },
  {
   "cell_type": "markdown",
   "metadata": {},
   "source": [
    "## Exercise 3\n",
    "Given a paragraph as a string, calculate the number of characters in the second sentence. (Whitespace counts as a character)"
   ]
  },
  {
   "cell_type": "code",
   "execution_count": 11,
   "metadata": {},
   "outputs": [
    {
     "data": {
      "text/plain": [
       "30"
      ]
     },
     "execution_count": 11,
     "metadata": {},
     "output_type": "execute_result"
    }
   ],
   "source": [
    "sentence = 'This is a paragraph. It contains multiple sentences. It has three sentences to be exact.'\n",
    "\n",
    "# Your code below\n",
    "sentence_list = sentence.split('. ')\n",
    "len(sentence_list[1])"
   ]
  },
  {
   "cell_type": "markdown",
   "metadata": {},
   "source": [
    "## Exercise 4\n",
    "Given an email address as a string, extract only the domain name. For example:\n",
    "- `'johnsmith@gmail.com'` => `'gmail'`\n",
    "- `'smithjohn@hotmail.com'` => `'hotmail'`\n",
    "\n",
    "Hint: You can use multiple splits"
   ]
  },
  {
   "cell_type": "code",
   "execution_count": 13,
   "metadata": {},
   "outputs": [
    {
     "name": "stdout",
     "output_type": "stream",
     "text": [
      "['gmail', 'hotmail']\n"
     ]
    }
   ],
   "source": [
    "email1 = 'johnsmith@gmail.com'\n",
    "email2 = 'smithjohn@hotmail.com'\n",
    "\n",
    "# Your code below\n",
    "\n",
    "print(list(map(lambda x: x.split('@')[1].split('.')[0], (email1, email2))))"
   ]
  },
  {
   "cell_type": "markdown",
   "metadata": {},
   "source": [
    "## Exercise 5\n",
    "- Given a string of songs `'LA Story, Lost Stars, Grenade'`\n",
    "- And a list of movies `[Avengers, Iron Man, Hulk]`\n",
    "- Join the songs and the movies together as a variable called `favourites` (Hint: List1 + List2)\n",
    "- Finally, add a book named `'NYPD Red'` to the end of the list"
   ]
  },
  {
   "cell_type": "code",
   "execution_count": 20,
   "metadata": {},
   "outputs": [
    {
     "name": "stdout",
     "output_type": "stream",
     "text": [
      "['LA Story', 'Lost Stars', 'Grenade', 'Avengers', 'Iron Man', 'Hulk', 'NYPD Red']\n"
     ]
    }
   ],
   "source": [
    "songs = 'LA Story, Lost Stars, Grenade'\n",
    "movies = ['Avengers', 'Iron Man', 'Hulk']\n",
    "\n",
    "# Your code below\n",
    "favourites = songs.split(', ') + movies + ['NYPD Red']\n",
    "print(favourites)"
   ]
  },
  {
   "cell_type": "markdown",
   "metadata": {},
   "source": [
    "## Exercise 6\n",
    "\n",
    "- Create a program to check if there will be rain\n",
    "- The program should ask the user 'What day of the week is it?' using the `input` function\n",
    "- Using an if statement, if the day is equal to 'Monday' or 'Tuesday', print 'Today is sunny'\n",
    "- If it is not, print 'Today it will rain'"
   ]
  },
  {
   "cell_type": "code",
   "execution_count": 29,
   "metadata": {},
   "outputs": [
    {
     "name": "stdin",
     "output_type": "stream",
     "text": [
      "What day of the week is it? sun\n"
     ]
    },
    {
     "name": "stdout",
     "output_type": "stream",
     "text": [
      "Today it will rain\n"
     ]
    }
   ],
   "source": [
    "# Your code below\n",
    "day = input('What day of the week is it?').lower()\n",
    "sunny_days = ['monday', 'tuesday']\n",
    "\n",
    "if day in sunny_days:\n",
    "    print('Today is sunny')\n",
    "else:\n",
    "    print('Today it will rain')"
   ]
  },
  {
   "cell_type": "markdown",
   "metadata": {},
   "source": [
    "## Exercise 7\n",
    "Given a dictionary that represents a user of an online grocery store, use Python to answer the following:\n",
    "- Is their password the same as their username?\n",
    "- How many characters in their email **before** the `@` symbol\n",
    "- How old are they as of this year?\n",
    "- How many items in their shopping cart?\n",
    "\n",
    "Change the dictionary to do the following:\n",
    "- Add a new item to the dictionary called `online`, set the value to be `False`\n",
    "- Remove `'milk'` from their shopping cart\n",
    "- Add `'super milk'` to their shopping cart"
   ]
  },
  {
   "cell_type": "code",
   "execution_count": null,
   "metadata": {},
   "outputs": [],
   "source": [
    "user = {\n",
    "    'username': 'coolguy123',\n",
    "    'password': 'coolguy123',\n",
    "    'email': 'coolguy@email.com',\n",
    "    'year_of_birth': 1900,\n",
    "    'shopping_cart': ['milk', 'bread', 'eggs', 'butter']\n",
    "}\n",
    "\n",
    "# Your code below\n"
   ]
  },
  {
   "cell_type": "markdown",
   "metadata": {},
   "source": [
    "## Exercise 8 \n",
    "\n",
    "- Create a list with the following numbers: `[42, 2, 9, 7, 3, 53, 18]`\n",
    "- Create a new list with only the even numbers from the first list"
   ]
  },
  {
   "cell_type": "code",
   "execution_count": null,
   "metadata": {},
   "outputs": [],
   "source": [
    "# Your code below\n"
   ]
  },
  {
   "cell_type": "markdown",
   "metadata": {},
   "source": [
    "## Exercise 9\n",
    "- The weight of a person on the moon is 1/6th the weight of a person standing on earth.\n",
    "- Let's say that your weight on earth increases by 1 kg every year\n",
    "- Write a program that will print your weight on the moon every year for the next 10 years\n",
    "- Your initial weight is 70kg\n"
   ]
  },
  {
   "cell_type": "code",
   "execution_count": null,
   "metadata": {},
   "outputs": [],
   "source": [
    "# Your code below\n"
   ]
  },
  {
   "cell_type": "markdown",
   "metadata": {},
   "source": [
    "## Exercise 10\n",
    "Imagine a store has sold 5 orders of its product. Given a list of the prices of each order and a list of quantities for each order, calculate the total sales revenue.\n",
    "\n",
    "If you'd like a challenge, try solving it in one line. (Hint: list comprehension)"
   ]
  },
  {
   "cell_type": "code",
   "execution_count": null,
   "metadata": {},
   "outputs": [],
   "source": [
    "prices = ['$5', '$10', '$1', '$20', '$7']\n",
    "quantities = [5, 2, 50, 5, 1]\n",
    "\n",
    "# Your code below\n"
   ]
  },
  {
   "cell_type": "markdown",
   "metadata": {},
   "source": [
    "## Hangman\n",
    "\n",
    "Create a Hangman game. The rules of Hangman can be found at:  https://en.wikipedia.org/wiki/Hangman_(game). For our version of the game we'll do the following:\n",
    "- The answer will be set to `'kangaroo'`\n",
    "- Use the `input` function to get the user's guess\n",
    "- Display the current board (ka_a_oo) and current guessed letters every turn\n",
    "- The player has 5 incorrect guess until they lose\n",
    "- If the user guesses all letters end the program and print 'You win'\n",
    "- If the user makes 5 incorrect guesses print 'You lose'\n",
    "\n",
    "### Bonus\n",
    "Try improving your game. You can make it as complex as you'd like. Some ideas to try:\n",
    "- Give the user the option to guess the whole word instead of one letter at a time\n",
    "- Randomly generate the answer\n",
    "- Reformat your code using functions\n",
    "- Handle error cases\n",
    "    - ex. If the user inputs an uppercase letter or a number\n",
    "- Make the game two players\n",
    "    - One player creates the answer and the other guesses\n",
    "    - When they're done switch roles\n",
    "    - Play multiple rounds and keep score to declare the winner"
   ]
  },
  {
   "cell_type": "code",
   "execution_count": null,
   "metadata": {},
   "outputs": [],
   "source": [
    "# Your code below\n"
   ]
  }
 ],
 "metadata": {
  "kernelspec": {
   "display_name": "Python 3 (ipykernel)",
   "language": "python",
   "name": "python3"
  },
  "language_info": {
   "codemirror_mode": {
    "name": "ipython",
    "version": 3
   },
   "file_extension": ".py",
   "mimetype": "text/x-python",
   "name": "python",
   "nbconvert_exporter": "python",
   "pygments_lexer": "ipython3",
   "version": "3.10.14"
  },
  "toc": {
   "base_numbering": 1,
   "nav_menu": {},
   "number_sections": false,
   "sideBar": true,
   "skip_h1_title": false,
   "title_cell": "Table of Contents",
   "title_sidebar": "Contents",
   "toc_cell": false,
   "toc_position": {},
   "toc_section_display": true,
   "toc_window_display": false
  }
 },
 "nbformat": 4,
 "nbformat_minor": 4
}
