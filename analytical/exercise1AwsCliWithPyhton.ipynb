{
 "cells": [
  {
   "cell_type": "markdown",
   "id": "9cb2cc43-8c29-47ac-9227-691efa25cf51",
   "metadata": {},
   "source": [
    "# Practice Boto3 Package"
   ]
  },
  {
   "cell_type": "code",
   "execution_count": 1,
   "id": "d3b6783d-34db-4f5a-91ef-54043d845407",
   "metadata": {},
   "outputs": [],
   "source": [
    "import boto3\n",
    "import os\n",
    "session = boto3.Session()"
   ]
  },
  {
   "cell_type": "code",
   "execution_count": 15,
   "id": "6fce91a7-39ed-4fb4-925c-63477ca227a4",
   "metadata": {},
   "outputs": [],
   "source": [
    "ACCESS_KEY=\"***\"\n",
    "SECRET_KEY=\"***\""
   ]
  },
  {
   "cell_type": "code",
   "execution_count": 17,
   "id": "8a3a998e-a172-48fb-87b9-95152927ceed",
   "metadata": {},
   "outputs": [],
   "source": [
    "session = boto3.Session(\n",
    "    aws_access_key_id=ACCESS_KEY,\n",
    "    aws_secret_access_key=SECRET_KEY)\n",
    "\n",
    "s3 = session.resource('s3')\n",
    "s3_client = session.client('s3')"
   ]
  },
  {
   "cell_type": "code",
   "execution_count": 18,
   "id": "bc196a9e-5eef-4e61-a796-f4d2fca16268",
   "metadata": {},
   "outputs": [
    {
     "name": "stdout",
     "output_type": "stream",
     "text": [
      "{'ResponseMetadata': {'RequestId': 'FMT9WMDRD9FRNTEH', 'HostId': 'nT1aU0afMdq5dNojdfqdfiy9YqScGgK99K3cfFUJ/Axod24xLy+43ibgw7L7leVVK9yHK8dcX34=', 'HTTPStatusCode': 200, 'HTTPHeaders': {'x-amz-id-2': 'nT1aU0afMdq5dNojdfqdfiy9YqScGgK99K3cfFUJ/Axod24xLy+43ibgw7L7leVVK9yHK8dcX34=', 'x-amz-request-id': 'FMT9WMDRD9FRNTEH', 'date': 'Sun, 26 May 2024 04:58:36 GMT', 'location': 'http://demo-bucket-python-sarah.s3.amazonaws.com/', 'server': 'AmazonS3', 'content-length': '0'}, 'RetryAttempts': 0}, 'Location': 'http://demo-bucket-python-sarah.s3.amazonaws.com/'}\n"
     ]
    }
   ],
   "source": [
    "# create a bucket\n",
    "response = s3_client.create_bucket(\n",
    "    Bucket='demo-bucket-python-sarah',  \n",
    "    CreateBucketConfiguration={'LocationConstraint': 'us-east-2'} \n",
    ")\n",
    "\n",
    "print(response)"
   ]
  },
  {
   "cell_type": "code",
   "execution_count": 19,
   "id": "fbe5bd71-01bc-41bd-b65b-e989c41094b7",
   "metadata": {},
   "outputs": [
    {
     "name": "stdout",
     "output_type": "stream",
     "text": [
      "{'ResponseMetadata': {'RequestId': '0HNC0T7FNM5HPAGJ', 'HostId': 'Be0HYDhO2tKO5nJYwTbGQdX0nWiHyyINMfV2E2UAiX2QWblNRP2zAnS+fYipi2AEbkAkVS6WH6o=', 'HTTPStatusCode': 200, 'HTTPHeaders': {'x-amz-id-2': 'Be0HYDhO2tKO5nJYwTbGQdX0nWiHyyINMfV2E2UAiX2QWblNRP2zAnS+fYipi2AEbkAkVS6WH6o=', 'x-amz-request-id': '0HNC0T7FNM5HPAGJ', 'date': 'Sun, 26 May 2024 05:00:43 GMT', 'content-type': 'application/xml', 'transfer-encoding': 'chunked', 'server': 'AmazonS3'}, 'RetryAttempts': 0}, 'Buckets': [{'Name': 'demo-bucket-pyhton-sarah', 'CreationDate': datetime.datetime(2024, 5, 17, 21, 40, 9, tzinfo=tzlocal())}, {'Name': 'demo-bucket-python-sarah', 'CreationDate': datetime.datetime(2024, 5, 26, 4, 58, 36, tzinfo=tzlocal())}, {'Name': 'demo-bucket-sarah', 'CreationDate': datetime.datetime(2024, 5, 16, 23, 33, 5, tzinfo=tzlocal())}], 'Owner': {'ID': '1e382eac1c47638cca0777462a437f1c158b15c603c79aae1dd65618b117ceb2'}}\n"
     ]
    }
   ],
   "source": [
    "print(s3_client.list_buckets())"
   ]
  },
  {
   "cell_type": "code",
   "execution_count": 20,
   "id": "bacd7499-9b5b-48d1-9140-e58990e63212",
   "metadata": {},
   "outputs": [
    {
     "name": "stdout",
     "output_type": "stream",
     "text": [
      "demo-bucket-pyhton-sarah\n",
      "demo-bucket-python-sarah\n",
      "demo-bucket-sarah\n"
     ]
    }
   ],
   "source": [
    "# list all buckets\n",
    "for key in s3_client.list_buckets()['Buckets']:\n",
    "    print(key['Name'])"
   ]
  },
  {
   "cell_type": "code",
   "execution_count": 21,
   "id": "ab9c9352-7670-4187-b9db-b935dc306c3c",
   "metadata": {},
   "outputs": [],
   "source": [
    "# list all objects (including folders) in a bucket/folder\n",
    "# no sub-folder called datasets/social exists so this will throw an error\n",
    "\n",
    "objects = s3_client.list_objects(\n",
    "    Bucket='demo-bucket-python-sarah',\n",
    "    Prefix='datasets/social' #subfolder name\n",
    ")"
   ]
  },
  {
   "cell_type": "code",
   "execution_count": 23,
   "id": "365bb44c-a257-4d11-9925-98a26617d968",
   "metadata": {},
   "outputs": [
    {
     "name": "stdout",
     "output_type": "stream",
     "text": [
      "{'ResponseMetadata': {'RequestId': 'TZA24N4X0E5YN98K', 'HostId': '73xzPaneTo4Snj6h9aHsru6aVhkWDwDRgSXftoeelLYgtRAFB/u8NLSGmAiIjJXDXNMlN3SrYME=', 'HTTPStatusCode': 200, 'HTTPHeaders': {'x-amz-id-2': '73xzPaneTo4Snj6h9aHsru6aVhkWDwDRgSXftoeelLYgtRAFB/u8NLSGmAiIjJXDXNMlN3SrYME=', 'x-amz-request-id': 'TZA24N4X0E5YN98K', 'date': 'Sun, 26 May 2024 05:02:13 GMT', 'x-amz-bucket-region': 'us-east-2', 'content-type': 'application/xml', 'transfer-encoding': 'chunked', 'server': 'AmazonS3'}, 'RetryAttempts': 0}, 'IsTruncated': False, 'Marker': '', 'Name': 'demo-bucket-python-sarah', 'Prefix': 'datasets/social', 'MaxKeys': 1000, 'EncodingType': 'url'}\n"
     ]
    }
   ],
   "source": [
    "print(objects)"
   ]
  },
  {
   "cell_type": "code",
   "execution_count": 22,
   "id": "cbfb722b-ab20-4bde-8b07-fce2f85e6258",
   "metadata": {},
   "outputs": [
    {
     "ename": "KeyError",
     "evalue": "'Contents'",
     "output_type": "error",
     "traceback": [
      "\u001b[0;31m---------------------------------------------------------------------------\u001b[0m",
      "\u001b[0;31mKeyError\u001b[0m                                  Traceback (most recent call last)",
      "Cell \u001b[0;32mIn[22], line 1\u001b[0m\n\u001b[0;32m----> 1\u001b[0m \u001b[38;5;28;01mfor\u001b[39;00m key \u001b[38;5;129;01min\u001b[39;00m \u001b[43mobjects\u001b[49m\u001b[43m[\u001b[49m\u001b[38;5;124;43m'\u001b[39;49m\u001b[38;5;124;43mContents\u001b[39;49m\u001b[38;5;124;43m'\u001b[39;49m\u001b[43m]\u001b[49m:\n\u001b[1;32m      2\u001b[0m     \u001b[38;5;28mprint\u001b[39m(key[\u001b[38;5;124m'\u001b[39m\u001b[38;5;124mKey\u001b[39m\u001b[38;5;124m'\u001b[39m])\n",
      "\u001b[0;31mKeyError\u001b[0m: 'Contents'"
     ]
    }
   ],
   "source": [
    "for key in objects['Contents']:\n",
    "    print(key['Key'])"
   ]
  },
  {
   "cell_type": "code",
   "execution_count": 24,
   "id": "228b8be7-75a2-4f43-a225-a577b001f89e",
   "metadata": {},
   "outputs": [
    {
     "name": "stdout",
     "output_type": "stream",
     "text": [
      "{'ResponseMetadata': {'RequestId': '5ZTH39PYJ16CJJDG', 'HostId': 'h4//FGmL6UJPusxMpV9ldiFOr47JZh1ijYCOwU+NqA916ActQxOE4TlRiVqI5Xw3n+ltvG4ZCnA=', 'HTTPStatusCode': 200, 'HTTPHeaders': {'x-amz-id-2': 'h4//FGmL6UJPusxMpV9ldiFOr47JZh1ijYCOwU+NqA916ActQxOE4TlRiVqI5Xw3n+ltvG4ZCnA=', 'x-amz-request-id': '5ZTH39PYJ16CJJDG', 'date': 'Sun, 26 May 2024 05:04:51 GMT', 'x-amz-server-side-encryption': 'AES256', 'etag': '\"d41d8cd98f00b204e9800998ecf8427e\"', 'server': 'AmazonS3', 'content-length': '0'}, 'RetryAttempts': 0}, 'ETag': '\"d41d8cd98f00b204e9800998ecf8427e\"', 'ServerSideEncryption': 'AES256'}\n"
     ]
    }
   ],
   "source": [
    "# Create a folder object in a bucket\n",
    "response = s3_client.put_object(\n",
    "    Bucket='demo-bucket-python-sarah',\n",
    "    Key=('tmp/demo.csv'))\n",
    "print(response)"
   ]
  },
  {
   "cell_type": "code",
   "execution_count": 25,
   "id": "52c21b5a-1349-4d7b-8b9a-69f543aea032",
   "metadata": {},
   "outputs": [
    {
     "name": "stdout",
     "output_type": "stream",
     "text": [
      "{'ResponseMetadata': {'RequestId': 'T3BD9KNPM5KZ6K0H', 'HostId': 'N+e21UDZGPZKQ8UioECU/dZVQ3nczH6Ow358pmebKPJS8akbGK5lDOHQOr52POgGXCuplCnrrSw=', 'HTTPStatusCode': 200, 'HTTPHeaders': {'x-amz-id-2': 'N+e21UDZGPZKQ8UioECU/dZVQ3nczH6Ow358pmebKPJS8akbGK5lDOHQOr52POgGXCuplCnrrSw=', 'x-amz-request-id': 'T3BD9KNPM5KZ6K0H', 'date': 'Sun, 26 May 2024 05:05:23 GMT', 'x-amz-bucket-region': 'us-east-2', 'content-type': 'application/xml', 'transfer-encoding': 'chunked', 'server': 'AmazonS3'}, 'RetryAttempts': 0}, 'IsTruncated': False, 'Marker': '', 'Contents': [{'Key': 'tmp/demo.csv', 'LastModified': datetime.datetime(2024, 5, 26, 5, 4, 51, tzinfo=tzlocal()), 'ETag': '\"d41d8cd98f00b204e9800998ecf8427e\"', 'Size': 0, 'StorageClass': 'STANDARD', 'Owner': {'ID': '1e382eac1c47638cca0777462a437f1c158b15c603c79aae1dd65618b117ceb2'}}], 'Name': 'demo-bucket-python-sarah', 'Prefix': 'tmp', 'MaxKeys': 1000, 'EncodingType': 'url'}\n"
     ]
    }
   ],
   "source": [
    "\n",
    "#List the folder\n",
    "objects = s3_client.list_objects(\n",
    "    Bucket='demo-bucket-python-sarah',\n",
    "    Prefix='tmp'\n",
    ")\n",
    "\n",
    "print(objects)"
   ]
  },
  {
   "cell_type": "code",
   "execution_count": 26,
   "id": "72c831e6-7f86-4ba4-ba9e-df4452a4e990",
   "metadata": {},
   "outputs": [
    {
     "name": "stdout",
     "output_type": "stream",
     "text": [
      "tmp/demo.csv\n"
     ]
    }
   ],
   "source": [
    "for key in objects['Contents']:\n",
    "    print(key['Key'])"
   ]
  },
  {
   "cell_type": "code",
   "execution_count": null,
   "id": "dc1a9c18-26e8-432d-bfa9-91491229c66b",
   "metadata": {},
   "outputs": [],
   "source": [
    "# Copy an object from one S3 location to another.\n",
    "copy_source = {\n",
    "    'Bucket': 'demo-bucket-python-sarah',\n",
    "    'Key': 'tmp/demo.csv'\n",
    "}\n",
    "s3_client.copy(copy_source, 'demo-bucket-python-sarah', 'tmp1/demo1.csv')\n",
    "\n",
    "objects = s3_client.list_objects(\n",
    "    Bucket='demo-bucket-python-sarah',\n",
    "    Prefix='tmp1'\n",
    ")\n",
    "\n",
    "for key in objects['Contents']:\n",
    "    print(key['Key'])\n",
    "\n",
    "# Upload a file from local to s3\n",
    "s3_client.upload_file('test.csv', 'weclouddata-demo-bucket', 'tmp/demo_local.csv')\n",
    "\n",
    "# Download from s3\n",
    "s3_client.download_file('weclouddata-demo-bucket', 'tmp1/demo1.csv', 'demo1_s3.csv')"
   ]
  }
 ],
 "metadata": {
  "kernelspec": {
   "display_name": "Python 3 (ipykernel)",
   "language": "python",
   "name": "python3"
  },
  "language_info": {
   "codemirror_mode": {
    "name": "ipython",
    "version": 3
   },
   "file_extension": ".py",
   "mimetype": "text/x-python",
   "name": "python",
   "nbconvert_exporter": "python",
   "pygments_lexer": "ipython3",
   "version": "3.12.3"
  }
 },
 "nbformat": 4,
 "nbformat_minor": 5
}
